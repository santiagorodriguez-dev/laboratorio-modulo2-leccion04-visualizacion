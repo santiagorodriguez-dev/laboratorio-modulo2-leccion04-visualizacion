{
 "cells": [
  {
   "cell_type": "markdown",
   "id": "efdac2a2",
   "metadata": {},
   "source": [
    "<div style=\"text-align: center;\">\n",
    "  <img src=\"https://github.com/Hack-io-Data/Imagenes/blob/main/01-LogosHackio/logo_naranja@4x.png?raw=true\" alt=\"esquema\" />\n",
    "</div>"
   ]
  },
  {
   "cell_type": "markdown",
   "id": "e75492a7",
   "metadata": {},
   "source": [
    "# Laboratorio Visualización\n",
    "\n",
    "En este laboratorio usaremos el DataFrame de Netflix completo creado en los primeros laboratorios de Pandas. \n",
    "\n",
    "**Instrucciones:**\n",
    "\n",
    "1. Lee cuidadosamente el enunciado de cada ejercicio.\n",
    "\n",
    "2. Implementa la solución en la celda de código proporcionada.\n",
    "\n",
    "3. Debes incluir después de cada gráfica la interpretación de las mismas en una celda de markdown. "
   ]
  },
  {
   "cell_type": "code",
   "execution_count": 1,
   "id": "5ee555a0",
   "metadata": {},
   "outputs": [
    {
     "data": {
      "text/html": [
       "<div>\n",
       "<style scoped>\n",
       "    .dataframe tbody tr th:only-of-type {\n",
       "        vertical-align: middle;\n",
       "    }\n",
       "\n",
       "    .dataframe tbody tr th {\n",
       "        vertical-align: top;\n",
       "    }\n",
       "\n",
       "    .dataframe thead th {\n",
       "        text-align: right;\n",
       "    }\n",
       "</style>\n",
       "<table border=\"1\" class=\"dataframe\">\n",
       "  <thead>\n",
       "    <tr style=\"text-align: right;\">\n",
       "      <th></th>\n",
       "      <th>Title</th>\n",
       "      <th>Genre</th>\n",
       "      <th>Premiere</th>\n",
       "      <th>Runtime</th>\n",
       "      <th>IMDB Score</th>\n",
       "      <th>Language</th>\n",
       "      <th>show_id</th>\n",
       "      <th>type</th>\n",
       "      <th>title</th>\n",
       "      <th>director</th>\n",
       "      <th>cast</th>\n",
       "      <th>country</th>\n",
       "      <th>date_added</th>\n",
       "      <th>release_year</th>\n",
       "      <th>rating</th>\n",
       "      <th>duration</th>\n",
       "      <th>listed_in</th>\n",
       "      <th>description</th>\n",
       "    </tr>\n",
       "  </thead>\n",
       "  <tbody>\n",
       "    <tr>\n",
       "      <th>0</th>\n",
       "      <td>Dick Johnson Is Dead</td>\n",
       "      <td>Documentary</td>\n",
       "      <td>October 2, 2020</td>\n",
       "      <td>90.0</td>\n",
       "      <td>7.5</td>\n",
       "      <td>English</td>\n",
       "      <td>s1</td>\n",
       "      <td>Movie</td>\n",
       "      <td>Dick Johnson Is Dead</td>\n",
       "      <td>Kirsten Johnson</td>\n",
       "      <td>NaN</td>\n",
       "      <td>United States</td>\n",
       "      <td>September 25, 2021</td>\n",
       "      <td>2020</td>\n",
       "      <td>PG-13</td>\n",
       "      <td>90 min</td>\n",
       "      <td>Documentaries</td>\n",
       "      <td>As her father nears the end of his life, filmm...</td>\n",
       "    </tr>\n",
       "  </tbody>\n",
       "</table>\n",
       "</div>"
      ],
      "text/plain": [
       "                  Title        Genre         Premiere  Runtime  IMDB Score  \\\n",
       "0  Dick Johnson Is Dead  Documentary  October 2, 2020     90.0         7.5   \n",
       "\n",
       "  Language show_id   type                 title         director cast  \\\n",
       "0  English      s1  Movie  Dick Johnson Is Dead  Kirsten Johnson  NaN   \n",
       "\n",
       "         country          date_added  release_year rating duration  \\\n",
       "0  United States  September 25, 2021          2020  PG-13   90 min   \n",
       "\n",
       "       listed_in                                        description  \n",
       "0  Documentaries  As her father nears the end of his life, filmm...  "
      ]
     },
     "execution_count": 1,
     "metadata": {},
     "output_type": "execute_result"
    }
   ],
   "source": [
    "# Tratamiento de datos\n",
    "# -----------------------------------------------------------------------\n",
    "import pandas as pd\n",
    "import matplotlib.pyplot as plt\n",
    "import seaborn as sns\n",
    "\n",
    "# Configuración\n",
    "# -----------------------------------------------------------------------\n",
    "pd.set_option('display.max_columns', None) # para poder visualizar todas las columnas de los DataFrames\n",
    "\n",
    "# antes de empezar vamos a leer los datos\n",
    "df = pd.read_csv(\"datos/netflix_titles_originales_merge.csv\", index_col=0)\n",
    "df.head(1)"
   ]
  },
  {
   "cell_type": "markdown",
   "id": "4bef9a37",
   "metadata": {},
   "source": [
    "#### Ejercicio 1: ¿Cuántos títulos por tipo (Películas vs Series) tenemos?. En esta gráfica deberás: \n",
    "\n",
    "- Incluir un título. \n",
    "\n",
    "- Cambiar el nombre de los ejes X e Y. \n",
    "\n",
    "- Cambiar el color de las barras. "
   ]
  },
  {
   "cell_type": "code",
   "execution_count": 2,
   "id": "37f8aece",
   "metadata": {},
   "outputs": [
    {
     "data": {
      "text/plain": [
       "Index(['Title', 'Genre', 'Premiere', 'Runtime', 'IMDB Score', 'Language',\n",
       "       'show_id', 'type', 'title', 'director', 'cast', 'country', 'date_added',\n",
       "       'release_year', 'rating', 'duration', 'listed_in', 'description'],\n",
       "      dtype='object')"
      ]
     },
     "execution_count": 2,
     "metadata": {},
     "output_type": "execute_result"
    }
   ],
   "source": [
    "df.columns"
   ]
  },
  {
   "cell_type": "code",
   "execution_count": 3,
   "id": "ae29001b",
   "metadata": {},
   "outputs": [
    {
     "data": {
      "image/png": "[encoded data removed]",
      "text/plain": [
       "<Figure size 640x480 with 1 Axes>"
      ]
     },
     "metadata": {},
     "output_type": "display_data"
    }
   ],
   "source": [
    "df_type = df.groupby(\"type\")[\"title\"].count().reset_index()\n",
    "\n",
    "sns.barplot(y=\"title\", \n",
    "            hue=\"type\",\n",
    "            data=df_type,\n",
    "            palette=\"mako\",\n",
    "        )\n",
    "\n",
    "plt.title(\"(Películas vs Series)\")\n",
    "plt.xlabel(\"Tipo: Pelicula/Serie\")\n",
    "plt.ylabel(\"Cantidad de Peliculas\")\n",
    "plt.yticks()\n",
    "plt.show()"
   ]
  },
  {
   "cell_type": "markdown",
   "id": "0a053bca",
   "metadata": {},
   "source": [
    "#### Ejercicio 2: ¿Cuál es la distribución de calificaciones (rating) en los títulos? En esta gráfica deberás:\n",
    "\n",
    "- Mostrar los resultados ordenados de mayor a menor. \n",
    "\n",
    "- Rotar las etiquetas del eje X. \n",
    "\n",
    "- Quitar el nombre del eje X. \n",
    "\n",
    "- Cambiar el nombre del ehje Y. \n",
    "\n",
    "- Ponerle título a la gráfica. \n",
    "\n"
   ]
  },
  {
   "cell_type": "code",
   "execution_count": 4,
   "id": "6b1ca467",
   "metadata": {},
   "outputs": [
    {
     "data": {
      "text/html": [
       "<div>\n",
       "<style scoped>\n",
       "    .dataframe tbody tr th:only-of-type {\n",
       "        vertical-align: middle;\n",
       "    }\n",
       "\n",
       "    .dataframe tbody tr th {\n",
       "        vertical-align: top;\n",
       "    }\n",
       "\n",
       "    .dataframe thead th {\n",
       "        text-align: right;\n",
       "    }\n",
       "</style>\n",
       "<table border=\"1\" class=\"dataframe\">\n",
       "  <thead>\n",
       "    <tr style=\"text-align: right;\">\n",
       "      <th></th>\n",
       "      <th>title</th>\n",
       "      <th>IMDB Score</th>\n",
       "    </tr>\n",
       "  </thead>\n",
       "  <tbody>\n",
       "    <tr>\n",
       "      <th>0</th>\n",
       "      <td>Dick Johnson Is Dead</td>\n",
       "      <td>7.5</td>\n",
       "    </tr>\n",
       "  </tbody>\n",
       "</table>\n",
       "</div>"
      ],
      "text/plain": [
       "                  title  IMDB Score\n",
       "0  Dick Johnson Is Dead         7.5"
      ]
     },
     "execution_count": 4,
     "metadata": {},
     "output_type": "execute_result"
    }
   ],
   "source": [
    "df.head(1)\n",
    "df_dos_c = df[[\"title\",\"IMDB Score\"]]\n",
    "df_dos_c.head(1)"
   ]
  },
  {
   "cell_type": "code",
   "execution_count": 30,
   "id": "d37f6a6e",
   "metadata": {},
   "outputs": [
    {
     "data": {
      "image/png": "[encoded data removed]",
      "text/plain": [
       "<Figure size 640x480 with 1 Axes>"
      ]
     },
     "metadata": {},
     "output_type": "display_data"
    },
    {
     "data": {
      "text/html": [
       "<div>\n",
       "<style scoped>\n",
       "    .dataframe tbody tr th:only-of-type {\n",
       "        vertical-align: middle;\n",
       "    }\n",
       "\n",
       "    .dataframe tbody tr th {\n",
       "        vertical-align: top;\n",
       "    }\n",
       "\n",
       "    .dataframe thead th {\n",
       "        text-align: right;\n",
       "    }\n",
       "</style>\n",
       "<table border=\"1\" class=\"dataframe\">\n",
       "  <thead>\n",
       "    <tr style=\"text-align: right;\">\n",
       "      <th></th>\n",
       "      <th>index</th>\n",
       "      <th>title</th>\n",
       "      <th>IMDB Score</th>\n",
       "    </tr>\n",
       "  </thead>\n",
       "  <tbody>\n",
       "    <tr>\n",
       "      <th>0</th>\n",
       "      <td>3623</td>\n",
       "      <td>Enter the Anime</td>\n",
       "      <td>2.5</td>\n",
       "    </tr>\n",
       "    <tr>\n",
       "      <th>1</th>\n",
       "      <td>2104</td>\n",
       "      <td>Dark Forces</td>\n",
       "      <td>2.6</td>\n",
       "    </tr>\n",
       "    <tr>\n",
       "      <th>2</th>\n",
       "      <td>3094</td>\n",
       "      <td>The App</td>\n",
       "      <td>2.6</td>\n",
       "    </tr>\n",
       "    <tr>\n",
       "      <th>3</th>\n",
       "      <td>5073</td>\n",
       "      <td>The Open House</td>\n",
       "      <td>3.2</td>\n",
       "    </tr>\n",
       "    <tr>\n",
       "      <th>4</th>\n",
       "      <td>1777</td>\n",
       "      <td>Kaali Khuhi</td>\n",
       "      <td>3.4</td>\n",
       "    </tr>\n",
       "    <tr>\n",
       "      <th>5</th>\n",
       "      <td>3334</td>\n",
       "      <td>Drive</td>\n",
       "      <td>3.5</td>\n",
       "    </tr>\n",
       "    <tr>\n",
       "      <th>6</th>\n",
       "      <td>1594</td>\n",
       "      <td>Leyla Everlasting</td>\n",
       "      <td>3.7</td>\n",
       "    </tr>\n",
       "    <tr>\n",
       "      <th>7</th>\n",
       "      <td>2424</td>\n",
       "      <td>The Last Days of American Crime</td>\n",
       "      <td>3.7</td>\n",
       "    </tr>\n",
       "    <tr>\n",
       "      <th>8</th>\n",
       "      <td>4972</td>\n",
       "      <td>Paradox</td>\n",
       "      <td>3.9</td>\n",
       "    </tr>\n",
       "    <tr>\n",
       "      <th>9</th>\n",
       "      <td>1643</td>\n",
       "      <td>The Call</td>\n",
       "      <td>4.1</td>\n",
       "    </tr>\n",
       "  </tbody>\n",
       "</table>\n",
       "</div>"
      ],
      "text/plain": [
       "   index                            title  IMDB Score\n",
       "0   3623                  Enter the Anime         2.5\n",
       "1   2104                      Dark Forces         2.6\n",
       "2   3094                          The App         2.6\n",
       "3   5073                   The Open House         3.2\n",
       "4   1777                      Kaali Khuhi         3.4\n",
       "5   3334                            Drive         3.5\n",
       "6   1594                Leyla Everlasting         3.7\n",
       "7   2424  The Last Days of American Crime         3.7\n",
       "8   4972                          Paradox         3.9\n",
       "9   1643                         The Call         4.1"
      ]
     },
     "execution_count": 30,
     "metadata": {},
     "output_type": "execute_result"
    }
   ],
   "source": [
    "\n",
    "sns.countplot(\n",
    "            x=\"IMDB Score\",\n",
    "            #data=df_dos_c,\n",
    "            data=df_dos_c.sort_values(by=\"IMDB Score\",ascending=True).reset_index(),\n",
    "            palette=\"mako\",\n",
    "            hue=\"IMDB Score\",\n",
    "        )\n",
    "\n",
    "plt.title(\"(Rating por títulos)\")\n",
    "plt.xlabel(\"\")\n",
    "plt.ylabel(\"\")\n",
    "plt.yticks()\n",
    "plt.xticks(rotation=90)\n",
    "plt.show()\n",
    "\n",
    "df_dos_c.sort_values(by=\"IMDB Score\",ascending=True).reset_index().head(10)"
   ]
  },
  {
   "cell_type": "markdown",
   "id": "99171b1e",
   "metadata": {},
   "source": [
    "#### Ejercicio 3: ¿Cuál es el top 10 de países con más títulos disponibles? Deberás:\n",
    "\n",
    "- Poner nombre a la ejes. \n",
    "\n",
    "- Poner título a la gráfica. \n",
    "\n",
    "- Rotar las etiquetas del eje X. \n",
    "\n"
   ]
  },
  {
   "cell_type": "code",
   "execution_count": null,
   "id": "d71e386a",
   "metadata": {},
   "outputs": [],
   "source": []
  },
  {
   "cell_type": "markdown",
   "id": "40bec63e",
   "metadata": {},
   "source": [
    "#### Ejercicio 5: ¿Cuál es la puntuación promedio de las películas según su calificación? Deberás:\n",
    "\n",
    "\n",
    "- Poner nombre a la ejes. \n",
    "\n",
    "- Poner título a la gráfica. \n",
    "\n",
    "- Rotar las etiquetas del eje X. \n",
    "\n",
    "- Cambia el tamaño de la gráfica a 15 x 5"
   ]
  },
  {
   "cell_type": "code",
   "execution_count": null,
   "id": "8b073944",
   "metadata": {},
   "outputs": [],
   "source": []
  },
  {
   "cell_type": "markdown",
   "id": "9cf328ea",
   "metadata": {},
   "source": [
    "#### Ejercicio 6: ¿Cuál es la relación entre la duración de las películas y su puntuación en IMDb? Deberás:\n",
    "\n",
    "- Cambiar el tamaño de los puntos. \n",
    "\n",
    "- Poner nombre a la ejes. \n",
    "\n",
    "- Poner título a la gráfica. \n"
   ]
  },
  {
   "cell_type": "code",
   "execution_count": null,
   "id": "dfcb9a7d",
   "metadata": {},
   "outputs": [],
   "source": []
  },
  {
   "cell_type": "markdown",
   "id": "9a5c1174",
   "metadata": {},
   "source": [
    "#### Ejercicio 7: ¿Cómo se distribuye la puntuación en IMDb según los 10 idiomas más usados? Deberás:\n",
    "\n",
    "- Usa una gráfica que nos muestre la mediana y los cuartiles. \n",
    "\n",
    "- Poner nombre a la ejes. \n",
    "\n",
    "- Poner título a la gráfica. \n",
    "\n",
    "- Rota las etiquetas del eje X. "
   ]
  },
  {
   "cell_type": "code",
   "execution_count": null,
   "id": "3b352967",
   "metadata": {},
   "outputs": [],
   "source": []
  },
  {
   "cell_type": "markdown",
   "id": "27f1cb9c",
   "metadata": {},
   "source": [
    "#### Ejercicio 8: ¿Cuáles son los 10 directores que tienen las puntuaciones más altas?\n",
    "\n",
    "- Poner nombre a la ejes. \n",
    "\n",
    "- Poner título a la gráfica. \n",
    "\n",
    "- Rota las etiquetas del eje X. \n",
    "\n",
    "- Cambiar el tamaño de la gráfica. \n",
    "\n"
   ]
  },
  {
   "cell_type": "code",
   "execution_count": null,
   "id": "e2176b69",
   "metadata": {},
   "outputs": [],
   "source": []
  },
  {
   "cell_type": "markdown",
   "id": "2235902f",
   "metadata": {},
   "source": [
    "#### Ejercicio 9:  ¿Cuál es la distribución de títulos por tipo y calificación? Soluciona este ejercicio usando subplots. Deberás:\n",
    "\n",
    "- Poner nombre a la ejes. \n",
    "\n",
    "- Poner título a la gráfica. \n",
    "\n",
    "- Rota las etiquetas del eje X. \n"
   ]
  },
  {
   "cell_type": "code",
   "execution_count": null,
   "id": "13c6d052",
   "metadata": {},
   "outputs": [],
   "source": []
  },
  {
   "cell_type": "markdown",
   "id": "3c7de419",
   "metadata": {},
   "source": [
    "#### Ejercicio 10: ¿Cómo se distribuyen los títulos por país para los 6 principales países? Tienes que crear una gráfica para cada país mostrando los resultados en un subplot. Deberás: \n",
    "\n",
    "- Poner nombre a la ejes. \n",
    "\n",
    "- Poner título a la gráfica. \n",
    "\n",
    "- Rota las etiquetas del eje X. \n",
    "\n"
   ]
  },
  {
   "cell_type": "code",
   "execution_count": null,
   "id": "d8126483",
   "metadata": {},
   "outputs": [],
   "source": []
  },
  {
   "cell_type": "markdown",
   "id": "8639ca42",
   "metadata": {},
   "source": [
    "#### Ejercicio 11: ¿Cuál es total de tipos de calificaciones, considerando solo los principales 5 países? Deberás:\n",
    "\n",
    "- Poner nombre a la ejes. \n",
    "\n",
    "- Poner título a la gráfica. \n",
    "\n",
    "- Rota las etiquetas del eje X. "
   ]
  },
  {
   "cell_type": "code",
   "execution_count": null,
   "id": "40a316df",
   "metadata": {},
   "outputs": [],
   "source": []
  },
  {
   "cell_type": "markdown",
   "id": "54de71ba",
   "metadata": {},
   "source": [
    "#### Ejercicio 12: ¿Cómo se distribuyen las 5 primeras calificaciones  a lo largo de los aúltimo 10 años? \n",
    "\n",
    "- Poner nombre a la ejes. \n",
    "\n",
    "- Poner título a la gráfica. \n",
    "\n",
    "- Rota las etiquetas del eje X. \n",
    "\n",
    "- Elimina el nombre del eje X. "
   ]
  },
  {
   "cell_type": "code",
   "execution_count": null,
   "id": "ebfad69b",
   "metadata": {},
   "outputs": [],
   "source": []
  },
  {
   "cell_type": "markdown",
   "id": "0b3d25ed",
   "metadata": {},
   "source": [
    "\n",
    "### BONUS\n",
    "\n",
    "#### Ejercicio 13: ¿Cómo ha evolucionado la cantidad de títulos añadidos a lo largo de los años diferenciando entre Películas y Series?\n",
    "\n",
    "- Poner nombre a la ejes. \n",
    "\n",
    "- Poner título a la gráfica. \n",
    "\n",
    "- Rota las etiquetas del eje X. \n",
    "\n",
    "- Elimina el nombre del eje X. \n",
    "\n",
    "- Añade una *grid* al gráfico. "
   ]
  },
  {
   "cell_type": "code",
   "execution_count": null,
   "id": "de6ff8eb",
   "metadata": {},
   "outputs": [],
   "source": []
  },
  {
   "cell_type": "markdown",
   "id": "6184442d",
   "metadata": {},
   "source": [
    "#### Ejercicio 14: ¿Cómo se distribuyen los títulos según su calificación (rating)? Utiliza un gráfico de “quesitos” para visualizar la proporción de títulos en cada categoría de calificación."
   ]
  },
  {
   "cell_type": "code",
   "execution_count": null,
   "id": "19149eb2",
   "metadata": {},
   "outputs": [],
   "source": []
  },
  {
   "cell_type": "markdown",
   "id": "e26502f5",
   "metadata": {},
   "source": [
    "#### Ejercicio 15: ¿Cómo se distribuyen los títulos según su calificación (rating) y tipo (Películas vs Series)? Utiliza un gráfico countplot con el parámetro hue para diferenciar entre películas y series en cada calificación."
   ]
  },
  {
   "cell_type": "code",
   "execution_count": null,
   "id": "464cfdeb",
   "metadata": {},
   "outputs": [],
   "source": []
  }
 ],
 "metadata": {
  "kernelspec": {
   "display_name": "Python 3",
   "language": "python",
   "name": "python3"
  },
  "language_info": {
   "codemirror_mode": {
    "name": "ipython",
    "version": 3
   },
   "file_extension": ".py",
   "mimetype": "text/x-python",
   "name": "python",
   "nbconvert_exporter": "python",
   "pygments_lexer": "ipython3",
   "version": "3.12.5"
  }
 },
 "nbformat": 4,
 "nbformat_minor": 5
}
